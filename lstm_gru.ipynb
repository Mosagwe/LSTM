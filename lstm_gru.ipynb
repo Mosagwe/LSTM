{
 "cells": [
  {
   "cell_type": "code",
   "execution_count": 1,
   "id": "82552b89",
   "metadata": {},
   "outputs": [
    {
     "data": {
      "text/html": [
       "<div>\n",
       "<style scoped>\n",
       "    .dataframe tbody tr th:only-of-type {\n",
       "        vertical-align: middle;\n",
       "    }\n",
       "\n",
       "    .dataframe tbody tr th {\n",
       "        vertical-align: top;\n",
       "    }\n",
       "\n",
       "    .dataframe thead th {\n",
       "        text-align: right;\n",
       "    }\n",
       "</style>\n",
       "<table border=\"1\" class=\"dataframe\">\n",
       "  <thead>\n",
       "    <tr style=\"text-align: right;\">\n",
       "      <th></th>\n",
       "      <th>Open</th>\n",
       "      <th>High</th>\n",
       "      <th>Low</th>\n",
       "      <th>Close</th>\n",
       "      <th>Volume</th>\n",
       "      <th>Name</th>\n",
       "    </tr>\n",
       "    <tr>\n",
       "      <th>Date</th>\n",
       "      <th></th>\n",
       "      <th></th>\n",
       "      <th></th>\n",
       "      <th></th>\n",
       "      <th></th>\n",
       "      <th></th>\n",
       "    </tr>\n",
       "  </thead>\n",
       "  <tbody>\n",
       "    <tr>\n",
       "      <th>2006-01-03</th>\n",
       "      <td>82.45</td>\n",
       "      <td>82.55</td>\n",
       "      <td>80.81</td>\n",
       "      <td>82.06</td>\n",
       "      <td>11715200</td>\n",
       "      <td>IBM</td>\n",
       "    </tr>\n",
       "    <tr>\n",
       "      <th>2006-01-04</th>\n",
       "      <td>82.20</td>\n",
       "      <td>82.50</td>\n",
       "      <td>81.33</td>\n",
       "      <td>81.95</td>\n",
       "      <td>9840600</td>\n",
       "      <td>IBM</td>\n",
       "    </tr>\n",
       "    <tr>\n",
       "      <th>2006-01-05</th>\n",
       "      <td>81.40</td>\n",
       "      <td>82.90</td>\n",
       "      <td>81.00</td>\n",
       "      <td>82.50</td>\n",
       "      <td>7213500</td>\n",
       "      <td>IBM</td>\n",
       "    </tr>\n",
       "    <tr>\n",
       "      <th>2006-01-06</th>\n",
       "      <td>83.95</td>\n",
       "      <td>85.03</td>\n",
       "      <td>83.41</td>\n",
       "      <td>84.95</td>\n",
       "      <td>8197400</td>\n",
       "      <td>IBM</td>\n",
       "    </tr>\n",
       "    <tr>\n",
       "      <th>2006-01-09</th>\n",
       "      <td>84.10</td>\n",
       "      <td>84.25</td>\n",
       "      <td>83.38</td>\n",
       "      <td>83.73</td>\n",
       "      <td>6858200</td>\n",
       "      <td>IBM</td>\n",
       "    </tr>\n",
       "  </tbody>\n",
       "</table>\n",
       "</div>"
      ],
      "text/plain": [
       "             Open   High    Low  Close    Volume Name\n",
       "Date                                                 \n",
       "2006-01-03  82.45  82.55  80.81  82.06  11715200  IBM\n",
       "2006-01-04  82.20  82.50  81.33  81.95   9840600  IBM\n",
       "2006-01-05  81.40  82.90  81.00  82.50   7213500  IBM\n",
       "2006-01-06  83.95  85.03  83.41  84.95   8197400  IBM\n",
       "2006-01-09  84.10  84.25  83.38  83.73   6858200  IBM"
      ]
     },
     "execution_count": 1,
     "metadata": {},
     "output_type": "execute_result"
    }
   ],
   "source": [
    "# Importing the libraries\n",
    "import numpy as np\n",
    "import matplotlib.pyplot as plt\n",
    "plt.style.use('fivethirtyeight')\n",
    "import pandas as pd\n",
    "from sklearn.preprocessing import MinMaxScaler\n",
    "from keras.models import Sequential\n",
    "from keras.layers import Dense, LSTM, Dropout, GRU, Bidirectional\n",
    "from keras.optimizers import SGD\n",
    "import math\n",
    "from sklearn.metrics import mean_squared_error\n",
    "\n",
    "# Import entire .csv file as a DataFrame\n",
    "dataset = pd.read_csv('C:/data/ML_Models/RNN/IBM.csv',index_col='Date',parse_dates=['Date'])\n",
    "dataset.head()"
   ]
  },
  {
   "cell_type": "markdown",
   "id": "1be7392b",
   "metadata": {},
   "source": [
    "#### Column selection and dataset slicing\n",
    "For this case \"Close\" stock price column is selected, which indicates IBM's closing price."
   ]
  },
  {
   "cell_type": "code",
   "execution_count": 2,
   "id": "6b89fc46",
   "metadata": {},
   "outputs": [],
   "source": [
    "# Selecting column 'Close'\n",
    "training_set = dataset[:'2016'].iloc[:,3:4].values\n",
    "test_set = dataset['2017':].iloc[:,3:4].values"
   ]
  },
  {
   "cell_type": "markdown",
   "id": "189fb8b0",
   "metadata": {},
   "source": [
    "#### Apply Feature Scaling to the Data set\n",
    "Used normalization technique for feature scaling using MinMaxscaler"
   ]
  },
  {
   "cell_type": "code",
   "execution_count": 3,
   "id": "8b9ed3cd",
   "metadata": {},
   "outputs": [],
   "source": [
    "# Scaling the training set\n",
    "sc = MinMaxScaler()\n",
    "training_set_scaled = sc.fit_transform(training_set)"
   ]
  },
  {
   "cell_type": "markdown",
   "id": "dd38bfd0",
   "metadata": {},
   "source": [
    "##### 'Close' attribute for prices visualization"
   ]
  },
  {
   "cell_type": "code",
   "execution_count": 4,
   "id": "318a5d84",
   "metadata": {},
   "outputs": [
    {
     "data": {
      "image/png": "[encoded data removed]",
      "text/plain": [
       "<Figure size 1152x288 with 1 Axes>"
      ]
     },
     "metadata": {
      "needs_background": "light"
     },
     "output_type": "display_data"
    }
   ],
   "source": [
    "# 'Close' attribute for prices visualization.\n",
    "dataset['Close'][:'2016'].plot(figsize=(16,4),legend=True)\n",
    "dataset['Close']['2017':].plot(figsize=(16,4),legend=True)\n",
    "plt.legend(['Training set','Test set'] )\n",
    "plt.title('IBM stock price')\n",
    "plt.show()"
   ]
  },
  {
   "cell_type": "code",
   "execution_count": null,
   "id": "dffc9599",
   "metadata": {},
   "outputs": [],
   "source": []
  },
  {
   "cell_type": "markdown",
   "id": "3e680aba",
   "metadata": {},
   "source": [
    "#### Specify the Number of Timesteps\n",
    "Timesteps specify how many previous observations should be considered when the recurrent neural network makes a prediction about the current observation. \n",
    "In this case, 60 timesteps is used, menaing for every day the neural network predicts, it will consider the previous 60 days of stock prices to determine its output."
   ]
  },
  {
   "cell_type": "code",
   "execution_count": 5,
   "id": "afcaeafe",
   "metadata": {},
   "outputs": [],
   "source": [
    "# So for each element of training set, we have 60 previous training set elements \n",
    "X_train_data = []\n",
    "y_train_data = []\n",
    "for i in range(60,2769):\n",
    "    # for i in range(60,len(training_set)):\n",
    "    X_train_data.append(training_set_scaled[i-60:i,0])\n",
    "    y_train_data.append(training_set_scaled[i,0])\n",
    "    \n",
    "# Transform to Numpy array\n",
    "X_train_data, y_train_data = np.array(X_train_data), np.array(y_train_data)\n",
    "\n",
    "# Reshaping X_train_data for efficient modelling\n",
    "# Reason for reshaping is that the recurrent neural network layer only accepts data in a specific format\n",
    "# Use np.reshape method\n",
    "X_train_data = np.reshape(X_train_data, \n",
    "                          (X_train_data.shape[0],\n",
    "                           X_train_data.shape[1],\n",
    "                           1))"
   ]
  },
  {
   "cell_type": "markdown",
   "id": "5d049f30",
   "metadata": {},
   "source": [
    "This outputs:"
   ]
  },
  {
   "cell_type": "code",
   "execution_count": 6,
   "id": "06397bfe",
   "metadata": {},
   "outputs": [
    {
     "name": "stdout",
     "output_type": "stream",
     "text": [
      "(2709, 60, 1)\n"
     ]
    }
   ],
   "source": [
    "print(X_train_data.shape)"
   ]
  },
  {
   "cell_type": "markdown",
   "id": "3fcd4357",
   "metadata": {},
   "source": [
    "### Building Recurrent Neural Network\n",
    "### 1. Long Short Term Memory (LSTM)\n",
    "Used Sequential class i.e. add sequences of layers over time to the build recurrent neural network.\n",
    "##### Dropout Regularization\n",
    "Dropout regularization is a technique used to avoid overfitting when training neural networks.\n",
    "\n",
    "Epochs: the number of iterations for the recurrent neural network to be trained on. \n",
    "\n",
    "The batch size: the size of batches that the network will be trained in through each epoch.\n",
    "\n",
    "Used Adam optimizer which is a workhorse optimizer that is useful in a wide variety of neural network architectures."
   ]
  },
  {
   "cell_type": "code",
   "execution_count": 7,
   "id": "5826ade0",
   "metadata": {},
   "outputs": [
    {
     "name": "stdout",
     "output_type": "stream",
     "text": [
      "Epoch 1/50\n",
      "85/85 [==============================] - 11s 59ms/step - loss: 0.0230 - accuracy: 7.3828e-04\n",
      "Epoch 2/50\n",
      "85/85 [==============================] - 5s 59ms/step - loss: 0.0052 - accuracy: 7.3828e-04\n",
      "Epoch 3/50\n",
      "85/85 [==============================] - 5s 64ms/step - loss: 0.0044 - accuracy: 7.3828e-04\n",
      "Epoch 4/50\n",
      "85/85 [==============================] - 6s 65ms/step - loss: 0.0044 - accuracy: 7.3828e-04\n",
      "Epoch 5/50\n",
      "85/85 [==============================] - 5s 65ms/step - loss: 0.0045 - accuracy: 7.3828e-04\n",
      "Epoch 6/50\n",
      "85/85 [==============================] - 6s 69ms/step - loss: 0.0036 - accuracy: 7.3828e-04\n",
      "Epoch 7/50\n",
      "85/85 [==============================] - 5s 64ms/step - loss: 0.0034 - accuracy: 7.3828e-04\n",
      "Epoch 8/50\n",
      "85/85 [==============================] - 5s 64ms/step - loss: 0.0034 - accuracy: 7.3828e-04\n",
      "Epoch 9/50\n",
      "85/85 [==============================] - 6s 66ms/step - loss: 0.0031 - accuracy: 7.3828e-04\n",
      "Epoch 10/50\n",
      "85/85 [==============================] - 5s 64ms/step - loss: 0.0029 - accuracy: 7.3828e-04\n",
      "Epoch 11/50\n",
      "85/85 [==============================] - 5s 64ms/step - loss: 0.0029 - accuracy: 7.3828e-04\n",
      "Epoch 12/50\n",
      "85/85 [==============================] - 6s 67ms/step - loss: 0.0028 - accuracy: 7.3828e-04\n",
      "Epoch 13/50\n",
      "85/85 [==============================] - 6s 66ms/step - loss: 0.0025 - accuracy: 7.3828e-04\n",
      "Epoch 14/50\n",
      "85/85 [==============================] - 6s 76ms/step - loss: 0.0027 - accuracy: 7.3828e-04\n",
      "Epoch 15/50\n",
      "85/85 [==============================] - 6s 74ms/step - loss: 0.0027 - accuracy: 7.3828e-04\n",
      "Epoch 16/50\n",
      "85/85 [==============================] - 6s 66ms/step - loss: 0.0023 - accuracy: 7.3828e-04\n",
      "Epoch 17/50\n",
      "85/85 [==============================] - 6s 75ms/step - loss: 0.0023 - accuracy: 7.3828e-04\n",
      "Epoch 18/50\n",
      "85/85 [==============================] - 6s 67ms/step - loss: 0.0021 - accuracy: 7.3828e-04\n",
      "Epoch 19/50\n",
      "85/85 [==============================] - 7s 78ms/step - loss: 0.0019 - accuracy: 7.3828e-04\n",
      "Epoch 20/50\n",
      "85/85 [==============================] - 8s 92ms/step - loss: 0.0019 - accuracy: 7.3828e-04\n",
      "Epoch 21/50\n",
      "85/85 [==============================] - 8s 94ms/step - loss: 0.0019 - accuracy: 7.3828e-04\n",
      "Epoch 22/50\n",
      "85/85 [==============================] - 9s 102ms/step - loss: 0.0017 - accuracy: 7.3828e-04\n",
      "Epoch 23/50\n",
      "85/85 [==============================] - 9s 106ms/step - loss: 0.0018 - accuracy: 7.3828e-04\n",
      "Epoch 24/50\n",
      "85/85 [==============================] - 8s 97ms/step - loss: 0.0017 - accuracy: 7.3828e-04\n",
      "Epoch 25/50\n",
      "85/85 [==============================] - 9s 108ms/step - loss: 0.0016 - accuracy: 7.3828e-04\n",
      "Epoch 26/50\n",
      "85/85 [==============================] - 10s 114ms/step - loss: 0.0016 - accuracy: 7.3828e-04\n",
      "Epoch 27/50\n",
      "85/85 [==============================] - 9s 106ms/step - loss: 0.0017 - accuracy: 7.3828e-04\n",
      "Epoch 28/50\n",
      "85/85 [==============================] - 8s 98ms/step - loss: 0.0016 - accuracy: 7.3828e-04\n",
      "Epoch 29/50\n",
      "85/85 [==============================] - 9s 109ms/step - loss: 0.0017 - accuracy: 7.3828e-04\n",
      "Epoch 30/50\n",
      "85/85 [==============================] - 10s 114ms/step - loss: 0.0016 - accuracy: 7.3828e-04\n",
      "Epoch 31/50\n",
      "85/85 [==============================] - 9s 109ms/step - loss: 0.0015 - accuracy: 7.3828e-04\n",
      "Epoch 32/50\n",
      "85/85 [==============================] - 8s 98ms/step - loss: 0.0014 - accuracy: 7.3828e-04\n",
      "Epoch 33/50\n",
      "85/85 [==============================] - 10s 115ms/step - loss: 0.0014 - accuracy: 7.3828e-04\n",
      "Epoch 34/50\n",
      "85/85 [==============================] - 13s 149ms/step - loss: 0.0015 - accuracy: 7.3828e-04\n",
      "Epoch 35/50\n",
      "85/85 [==============================] - 11s 126ms/step - loss: 0.0013 - accuracy: 7.3828e-04\n",
      "Epoch 36/50\n",
      "85/85 [==============================] - 11s 127ms/step - loss: 0.0014 - accuracy: 7.3828e-04\n",
      "Epoch 37/50\n",
      "85/85 [==============================] - 8s 97ms/step - loss: 0.0013 - accuracy: 7.3828e-04\n",
      "Epoch 38/50\n",
      "85/85 [==============================] - 8s 89ms/step - loss: 0.0014 - accuracy: 7.3828e-04\n",
      "Epoch 39/50\n",
      "85/85 [==============================] - 9s 104ms/step - loss: 0.0013 - accuracy: 7.3828e-04\n",
      "Epoch 40/50\n",
      "85/85 [==============================] - 8s 92ms/step - loss: 0.0012 - accuracy: 7.3828e-04\n",
      "Epoch 41/50\n",
      "85/85 [==============================] - 9s 104ms/step - loss: 0.0013 - accuracy: 7.3828e-04\n",
      "Epoch 42/50\n",
      "85/85 [==============================] - 9s 111ms/step - loss: 0.0012 - accuracy: 7.3828e-04\n",
      "Epoch 43/50\n",
      "85/85 [==============================] - 11s 125ms/step - loss: 0.0012 - accuracy: 7.3828e-04\n",
      "Epoch 44/50\n",
      "85/85 [==============================] - 11s 128ms/step - loss: 0.0012 - accuracy: 7.3828e-04\n",
      "Epoch 45/50\n",
      "85/85 [==============================] - 9s 100ms/step - loss: 0.0012 - accuracy: 7.3828e-04\n",
      "Epoch 46/50\n",
      "85/85 [==============================] - 10s 113ms/step - loss: 0.0012 - accuracy: 7.3828e-04\n",
      "Epoch 47/50\n",
      "85/85 [==============================] - 8s 99ms/step - loss: 0.0011 - accuracy: 7.3828e-04\n",
      "Epoch 48/50\n",
      "85/85 [==============================] - 9s 106ms/step - loss: 0.0011 - accuracy: 7.3828e-04\n",
      "Epoch 49/50\n",
      "85/85 [==============================] - 9s 109ms/step - loss: 0.0010 - accuracy: 7.3828e-04\n",
      "Epoch 50/50\n",
      "85/85 [==============================] - 10s 113ms/step - loss: 0.0010 - accuracy: 7.3828e-04\n"
     ]
    },
    {
     "data": {
      "text/plain": [
       "<keras.callbacks.History at 0x240b9850a90>"
      ]
     },
     "execution_count": 7,
     "metadata": {},
     "output_type": "execute_result"
    }
   ],
   "source": [
    "# Initialize recurrent neural network\n",
    "rnn = Sequential()\n",
    "# Add more layers to this recurrent neural network using the add method\n",
    "# First LSTM layer with Dropout regularisation\n",
    "rnn.add(LSTM(units=50, return_sequences=True, input_shape=(X_train_data.shape[1],1)))\n",
    "# Adding Some Dropout Regularization\n",
    "# Dropout regularization is a technique used to avoid overfitting when training neural networks.\n",
    "rnn.add(Dropout(0.2))\n",
    "\n",
    "# Add Three more LSTM layer\n",
    "# 2nd LSTM layer\n",
    "rnn.add(LSTM(units=50, return_sequences=True))\n",
    "rnn.add(Dropout(0.2))\n",
    "# Third LSTM layer\n",
    "rnn.add(LSTM(units=50, return_sequences=True))\n",
    "rnn.add(Dropout(0.2))\n",
    "# Fourth LSTM layer\n",
    "rnn.add(LSTM(units=50))\n",
    "rnn.add(Dropout(0.2))\n",
    "# The output layer\n",
    "rnn.add(Dense(units=1))\n",
    "# Adding The Output Layer To Our Recurrent Neural Network\n",
    "rnn.add(Dense(units=1))\n",
    "\n",
    "# Compiling the RNN\n",
    "# the compilation step of building a neural network is where we specify \n",
    "# the neural net’s optimizer and loss function\n",
    "#rnn.compile(optimizer='rmsprop',loss='mean_squared_error') \n",
    "rnn.compile(optimizer='adam',loss='mean_squared_error', metrics=['accuracy']) \n",
    "# The Adam optimizer is a workhorse optimizer that is useful in a wide variety of neural network architectures.\n",
    "# Fitting the recurrent neural network on the training set\n",
    "rnn.fit(X_train_data,y_train_data,epochs=50,batch_size=32)"
   ]
  },
  {
   "cell_type": "markdown",
   "id": "2f9a9cc0",
   "metadata": {},
   "source": [
    "#### Building The Test Data Set\n",
    "Create an array to hold stock prices from Jan 2017 and the 60 trading days prior to January 2017"
   ]
  },
  {
   "cell_type": "code",
   "execution_count": 8,
   "id": "e8d2748a",
   "metadata": {},
   "outputs": [],
   "source": [
    "# Preparing the dataset\n",
    "# Used the first 60 entires of test set\n",
    "dataset_total = pd.concat((dataset[\"Close\"][:'2016'],dataset[\"Close\"]['2017':]),axis=0)\n",
    "inputs = dataset_total[len(dataset_total)-len(test_set) - 60:].values\n",
    "inputs = inputs.reshape(-1,1) # To make it suitable for predict method\n",
    "inputs  = sc.transform(inputs)\n"
   ]
  },
  {
   "cell_type": "markdown",
   "id": "8d003133",
   "metadata": {},
   "source": [
    "#### Making Predictions\n",
    "Used the test data set to make predictions by calling the predict method on the rnn object."
   ]
  },
  {
   "cell_type": "code",
   "execution_count": 9,
   "id": "20fde300",
   "metadata": {},
   "outputs": [
    {
     "name": "stdout",
     "output_type": "stream",
     "text": [
      "8/8 [==============================] - 2s 23ms/step\n"
     ]
    }
   ],
   "source": [
    "# Grouping the Test Data\n",
    "X_test = []\n",
    "for i in range(60,311):\n",
    "    X_test.append(inputs[i-60:i,0])\n",
    "X_test = np.array(X_test)\n",
    "X_test = np.reshape(X_test, (X_test.shape[0],X_test.shape[1],1))\n",
    "# making predictions\n",
    "predicted_stock_price = rnn.predict(X_test)\n",
    "predicted_stock_price = sc.inverse_transform(predicted_stock_price)\n",
    "\n",
    "#print(predicted_stock_price.shape)"
   ]
  },
  {
   "cell_type": "code",
   "execution_count": 10,
   "id": "83969301",
   "metadata": {},
   "outputs": [
    {
     "data": {
      "text/plain": [
       "array([[[0.59100375],\n",
       "        [0.58260447],\n",
       "        [0.59197557],\n",
       "        ...,\n",
       "        [0.6556296 ],\n",
       "        [0.65847564],\n",
       "        [0.65424129]],\n",
       "\n",
       "       [[0.58260447],\n",
       "        [0.59197557],\n",
       "        [0.5764959 ],\n",
       "        ...,\n",
       "        [0.65847564],\n",
       "        [0.65424129],\n",
       "        [0.66257115]],\n",
       "\n",
       "       [[0.59197557],\n",
       "        [0.5764959 ],\n",
       "        [0.57302513],\n",
       "        ...,\n",
       "        [0.65424129],\n",
       "        [0.66257115],\n",
       "        [0.67694016]],\n",
       "\n",
       "       ...,\n",
       "\n",
       "       [[0.52006109],\n",
       "        [0.52089407],\n",
       "        [0.51881161],\n",
       "        ...,\n",
       "        [0.5536582 ],\n",
       "        [0.56059975],\n",
       "        [0.56289046]],\n",
       "\n",
       "       [[0.52089407],\n",
       "        [0.51881161],\n",
       "        [0.52047758],\n",
       "        ...,\n",
       "        [0.56059975],\n",
       "        [0.56289046],\n",
       "        [0.56497293]],\n",
       "\n",
       "       [[0.51881161],\n",
       "        [0.52047758],\n",
       "        [0.51881161],\n",
       "        ...,\n",
       "        [0.56289046],\n",
       "        [0.56497293],\n",
       "        [0.57128974]]])"
      ]
     },
     "execution_count": 10,
     "metadata": {},
     "output_type": "execute_result"
    }
   ],
   "source": [
    "X_test"
   ]
  },
  {
   "cell_type": "markdown",
   "id": "47649a4e",
   "metadata": {},
   "source": [
    "#### Plot the Predictions\n",
    "The plot compares the predicted stock prices with IBM's actual stock price."
   ]
  },
  {
   "cell_type": "code",
   "execution_count": 11,
   "id": "ca137ecf",
   "metadata": {},
   "outputs": [
    {
     "data": {
      "image/png": "[encoded data removed]",
      "text/plain": [
       "<Figure size 432x288 with 1 Axes>"
      ]
     },
     "metadata": {
      "needs_background": "light"
     },
     "output_type": "display_data"
    }
   ],
   "source": [
    "plt.plot(test_set, color='red',label='Actual Stock Price')\n",
    "plt.plot(predicted_stock_price, color='green',label='Predicted Stock Price')\n",
    "plt.title('IBM Stock Price Prediction')\n",
    "plt.xlabel('Time')\n",
    "plt.ylabel('IBM Stock Price')\n",
    "plt.legend()\n",
    "plt.show()\n"
   ]
  },
  {
   "cell_type": "markdown",
   "id": "67deb4e4",
   "metadata": {},
   "source": [
    "#### Evaluating the Model\n",
    "Root Mean Square Error (RMSE) is a standard way to measure the error of a model in predicting quantitative data."
   ]
  },
  {
   "cell_type": "code",
   "execution_count": 12,
   "id": "2cf32dd8",
   "metadata": {},
   "outputs": [
    {
     "name": "stdout",
     "output_type": "stream",
     "text": [
      "The root mean squared error is 2.7064072331579374.\n"
     ]
    }
   ],
   "source": [
    "rmse = math.sqrt(mean_squared_error(test_set, predicted_stock_price))\n",
    "print(\"The root mean squared error is {}.\".format(rmse))"
   ]
  },
  {
   "cell_type": "markdown",
   "id": "5c8969f6",
   "metadata": {},
   "source": [
    "The lower the RMSE, the better a given model is able to \"fit\" a dataset\n",
    "\n",
    "With a rmse of 2.4, the model is doing well.\n",
    "\n",
    "### 2. Gated Recurrent Units (GRU)\n",
    "GRU is similar to LSTM, but it has fewer gates. Also, it relies solely on a hidden state for memory transfer between recurrent units, so there is no separate cell state.\n",
    "#### Adding Layers to GRU RNN \n",
    "The GRU RNN is a Sequential Keras model. After initializing the Sequential model, there's need to add in the layers. The first layer to add is the Gated Recurrent Unit layer."
   ]
  },
  {
   "cell_type": "code",
   "execution_count": 13,
   "id": "e3169eb5",
   "metadata": {},
   "outputs": [
    {
     "name": "stdout",
     "output_type": "stream",
     "text": [
      "Epoch 1/50\n",
      "19/19 [==============================] - 11s 210ms/step - loss: 0.1093 - accuracy: 3.6914e-04\n",
      "Epoch 2/50\n",
      "19/19 [==============================] - 4s 227ms/step - loss: 0.0382 - accuracy: 7.3828e-04\n",
      "Epoch 3/50\n",
      "19/19 [==============================] - 5s 237ms/step - loss: 0.0107 - accuracy: 7.3828e-04\n",
      "Epoch 4/50\n",
      "19/19 [==============================] - 4s 234ms/step - loss: 0.0050 - accuracy: 7.3828e-04\n",
      "Epoch 5/50\n",
      "19/19 [==============================] - 5s 242ms/step - loss: 0.0043 - accuracy: 7.3828e-04\n",
      "Epoch 6/50\n",
      "19/19 [==============================] - 5s 241ms/step - loss: 0.0040 - accuracy: 7.3828e-04\n",
      "Epoch 7/50\n",
      "19/19 [==============================] - 5s 277ms/step - loss: 0.0037 - accuracy: 7.3828e-04\n",
      "Epoch 8/50\n",
      "19/19 [==============================] - 4s 237ms/step - loss: 0.0036 - accuracy: 7.3828e-04\n",
      "Epoch 9/50\n",
      "19/19 [==============================] - 4s 227ms/step - loss: 0.0035 - accuracy: 7.3828e-04\n",
      "Epoch 10/50\n",
      "19/19 [==============================] - 4s 223ms/step - loss: 0.0031 - accuracy: 7.3828e-04\n",
      "Epoch 11/50\n",
      "19/19 [==============================] - 4s 224ms/step - loss: 0.0030 - accuracy: 7.3828e-04\n",
      "Epoch 12/50\n",
      "19/19 [==============================] - 4s 212ms/step - loss: 0.0032 - accuracy: 7.3828e-04\n",
      "Epoch 13/50\n",
      "19/19 [==============================] - 4s 217ms/step - loss: 0.0031 - accuracy: 7.3828e-04\n",
      "Epoch 14/50\n",
      "19/19 [==============================] - 4s 208ms/step - loss: 0.0029 - accuracy: 7.3828e-04\n",
      "Epoch 15/50\n",
      "19/19 [==============================] - 4s 212ms/step - loss: 0.0027 - accuracy: 7.3828e-04\n",
      "Epoch 16/50\n",
      "19/19 [==============================] - 4s 205ms/step - loss: 0.0029 - accuracy: 7.3828e-04\n",
      "Epoch 17/50\n",
      "19/19 [==============================] - 4s 208ms/step - loss: 0.0028 - accuracy: 7.3828e-04\n",
      "Epoch 18/50\n",
      "19/19 [==============================] - 4s 203ms/step - loss: 0.0027 - accuracy: 7.3828e-04\n",
      "Epoch 19/50\n",
      "19/19 [==============================] - 4s 201ms/step - loss: 0.0027 - accuracy: 7.3828e-04\n",
      "Epoch 20/50\n",
      "19/19 [==============================] - 4s 206ms/step - loss: 0.0026 - accuracy: 7.3828e-04\n",
      "Epoch 21/50\n",
      "19/19 [==============================] - 4s 209ms/step - loss: 0.0025 - accuracy: 7.3828e-04\n",
      "Epoch 22/50\n",
      "19/19 [==============================] - 4s 212ms/step - loss: 0.0025 - accuracy: 7.3828e-04\n",
      "Epoch 23/50\n",
      "19/19 [==============================] - 4s 222ms/step - loss: 0.0025 - accuracy: 7.3828e-04\n",
      "Epoch 24/50\n",
      "19/19 [==============================] - 4s 196ms/step - loss: 0.0025 - accuracy: 7.3828e-04\n",
      "Epoch 25/50\n",
      "19/19 [==============================] - 4s 210ms/step - loss: 0.0024 - accuracy: 7.3828e-04\n",
      "Epoch 26/50\n",
      "19/19 [==============================] - 4s 229ms/step - loss: 0.0023 - accuracy: 7.3828e-04\n",
      "Epoch 27/50\n",
      "19/19 [==============================] - 4s 191ms/step - loss: 0.0024 - accuracy: 7.3828e-04\n",
      "Epoch 28/50\n",
      "19/19 [==============================] - 4s 191ms/step - loss: 0.0024 - accuracy: 7.3828e-04\n",
      "Epoch 29/50\n",
      "19/19 [==============================] - 4s 203ms/step - loss: 0.0024 - accuracy: 7.3828e-04\n",
      "Epoch 30/50\n",
      "19/19 [==============================] - 4s 203ms/step - loss: 0.0022 - accuracy: 7.3828e-04\n",
      "Epoch 31/50\n",
      "19/19 [==============================] - 4s 212ms/step - loss: 0.0022 - accuracy: 7.3828e-04\n",
      "Epoch 32/50\n",
      "19/19 [==============================] - 4s 219ms/step - loss: 0.0023 - accuracy: 7.3828e-04\n",
      "Epoch 33/50\n",
      "19/19 [==============================] - 4s 216ms/step - loss: 0.0023 - accuracy: 7.3828e-04\n",
      "Epoch 34/50\n",
      "19/19 [==============================] - 5s 266ms/step - loss: 0.0021 - accuracy: 7.3828e-04\n",
      "Epoch 35/50\n",
      "19/19 [==============================] - 5s 248ms/step - loss: 0.0022 - accuracy: 7.3828e-04\n",
      "Epoch 36/50\n",
      "19/19 [==============================] - 5s 256ms/step - loss: 0.0021 - accuracy: 7.3828e-04\n",
      "Epoch 37/50\n",
      "19/19 [==============================] - 5s 253ms/step - loss: 0.0022 - accuracy: 7.3828e-04\n",
      "Epoch 38/50\n",
      "19/19 [==============================] - 5s 243ms/step - loss: 0.0022 - accuracy: 7.3828e-04\n",
      "Epoch 39/50\n",
      "19/19 [==============================] - 4s 217ms/step - loss: 0.0022 - accuracy: 7.3828e-04\n",
      "Epoch 40/50\n",
      "19/19 [==============================] - 5s 262ms/step - loss: 0.0022 - accuracy: 7.3828e-04\n",
      "Epoch 41/50\n",
      "19/19 [==============================] - 4s 219ms/step - loss: 0.0020 - accuracy: 7.3828e-04\n",
      "Epoch 42/50\n",
      "19/19 [==============================] - 4s 210ms/step - loss: 0.0021 - accuracy: 7.3828e-04\n",
      "Epoch 43/50\n",
      "19/19 [==============================] - 4s 228ms/step - loss: 0.0022 - accuracy: 7.3828e-04\n",
      "Epoch 44/50\n",
      "19/19 [==============================] - 4s 220ms/step - loss: 0.0022 - accuracy: 7.3828e-04\n",
      "Epoch 45/50\n",
      "19/19 [==============================] - 5s 242ms/step - loss: 0.0021 - accuracy: 7.3828e-04\n",
      "Epoch 46/50\n",
      "19/19 [==============================] - 4s 202ms/step - loss: 0.0021 - accuracy: 7.3828e-04\n",
      "Epoch 47/50\n",
      "19/19 [==============================] - 4s 192ms/step - loss: 0.0021 - accuracy: 7.3828e-04\n",
      "Epoch 48/50\n",
      "19/19 [==============================] - 4s 234ms/step - loss: 0.0022 - accuracy: 7.3828e-04\n",
      "Epoch 49/50\n",
      "19/19 [==============================] - 4s 216ms/step - loss: 0.0022 - accuracy: 7.3828e-04\n",
      "Epoch 50/50\n",
      "19/19 [==============================] - 4s 193ms/step - loss: 0.0021 - accuracy: 7.3828e-04\n"
     ]
    },
    {
     "data": {
      "text/plain": [
       "<keras.callbacks.History at 0x240c8e06fa0>"
      ]
     },
     "execution_count": 13,
     "metadata": {},
     "output_type": "execute_result"
    }
   ],
   "source": [
    "# The GRU architecture\n",
    "regressorGRU = Sequential()\n",
    "# First GRU layer with Dropout regularisation\n",
    "regressorGRU.add(GRU(units=50, return_sequences=True, input_shape=(X_train_data.shape[1],1), activation='tanh'))\n",
    "regressorGRU.add(Dropout(0.2))\n",
    "# Second GRU layer\n",
    "regressorGRU.add(GRU(units=50, return_sequences=True, input_shape=(X_train_data.shape[1],1), activation='tanh'))\n",
    "regressorGRU.add(Dropout(0.2))\n",
    "# Third GRU layer\n",
    "regressorGRU.add(GRU(units=50, return_sequences=True, input_shape=(X_train_data.shape[1],1), activation='tanh'))\n",
    "regressorGRU.add(Dropout(0.2))\n",
    "# Fourth GRU layer\n",
    "regressorGRU.add(GRU(units=50, activation='tanh'))\n",
    "regressorGRU.add(Dropout(0.2))\n",
    "# The output layer\n",
    "regressorGRU.add(Dense(units=1))\n",
    "# Compiling the RNN\n",
    "regressorGRU.compile(optimizer=SGD(learning_rate=0.01, decay=1e-7, momentum=0.9, nesterov=False),loss='mean_squared_error',metrics=['accuracy'])\n",
    "# Fitting to the training set\n",
    "regressorGRU.fit(X_train_data,y_train_data,epochs=50,batch_size=150)"
   ]
  },
  {
   "cell_type": "markdown",
   "id": "b76807da",
   "metadata": {},
   "source": [
    "Used the same dataset to train the GRU model. To train the model in Keras, we just call the fit function."
   ]
  },
  {
   "cell_type": "markdown",
   "id": "aa77033b",
   "metadata": {},
   "source": [
    "#### Test the GRU Model\n",
    "Used the same test data set that was used to predict in the LSTM model."
   ]
  },
  {
   "cell_type": "code",
   "execution_count": 14,
   "id": "339bcded",
   "metadata": {},
   "outputs": [
    {
     "name": "stdout",
     "output_type": "stream",
     "text": [
      "8/8 [==============================] - 1s 17ms/step\n"
     ]
    }
   ],
   "source": [
    "# Preparing X_test and predicting the prices\n",
    "X_test = []\n",
    "for i in range(60,311):\n",
    "    X_test.append(inputs[i-60:i,0])\n",
    "X_test = np.array(X_test)\n",
    "X_test = np.reshape(X_test, (X_test.shape[0],X_test.shape[1],1))\n",
    "GRU_predicted_stock_price = regressorGRU.predict(X_test)\n",
    "GRU_predicted_stock_price = sc.inverse_transform(GRU_predicted_stock_price)"
   ]
  },
  {
   "cell_type": "markdown",
   "id": "736b3579",
   "metadata": {},
   "source": [
    "#### Predictions Visualization\n",
    "In this case we visualize the predicted values and the actual stock pricce."
   ]
  },
  {
   "cell_type": "code",
   "execution_count": 15,
   "id": "94c055f1",
   "metadata": {},
   "outputs": [
    {
     "data": {
      "image/png": "[encoded data removed]",
      "text/plain": [
       "<Figure size 432x288 with 1 Axes>"
      ]
     },
     "metadata": {
      "needs_background": "light"
     },
     "output_type": "display_data"
    }
   ],
   "source": [
    "plt.plot(test_set, color='red',label='Actual Stock Price')\n",
    "plt.plot(GRU_predicted_stock_price, color='green',label='Predicted Stock Price')\n",
    "plt.title('IBM Stock Price Prediction')\n",
    "plt.xlabel('Time')\n",
    "plt.ylabel('IBM Stock Price')\n",
    "plt.legend()\n",
    "plt.show()"
   ]
  },
  {
   "cell_type": "markdown",
   "id": "55ee93ca",
   "metadata": {},
   "source": [
    "#### Evaluating the Model\n",
    "Root Mean Square Error (RMSE) is a standard way to measure the error of a model in predicting quantitative data.\n",
    "\n",
    "The lower the RMSE, the better a given model is able to \"fit\" a dataset."
   ]
  },
  {
   "cell_type": "code",
   "execution_count": 16,
   "id": "5a17238d",
   "metadata": {},
   "outputs": [
    {
     "name": "stdout",
     "output_type": "stream",
     "text": [
      "The root mean squared error is 3.3492268696245144.\n"
     ]
    }
   ],
   "source": [
    "rmse = math.sqrt(mean_squared_error(test_set, GRU_predicted_stock_price))\n",
    "print(\"The root mean squared error is {}.\".format(rmse))"
   ]
  },
  {
   "cell_type": "markdown",
   "id": "4d3db30d",
   "metadata": {},
   "source": [
    "#### Interpretation\n",
    "From the visualization above, after 50 epochs, the model does quite well for both the training and validation data. It predicts the pattern correctly."
   ]
  },
  {
   "cell_type": "code",
   "execution_count": 19,
   "id": "b9e4a8cb",
   "metadata": {},
   "outputs": [],
   "source": [
    "#import pickle\n",
    "# open a file where to store the data\n",
    "#file=open('lstm_gru_model.pkl','wb')\n",
    "\n",
    "# dump information to that file\n",
    "#pickle.dump(rnn, file)\n",
    "rnn.save('lstm_model.h5')"
   ]
  },
  {
   "cell_type": "code",
   "execution_count": 18,
   "id": "290b10ea",
   "metadata": {},
   "outputs": [],
   "source": [
    "# Loading model to compare results"
   ]
  }
 ],
 "metadata": {
  "kernelspec": {
   "display_name": "Python 3 (ipykernel)",
   "language": "python",
   "name": "python3"
  },
  "language_info": {
   "codemirror_mode": {
    "name": "ipython",
    "version": 3
   },
   "file_extension": ".py",
   "mimetype": "text/x-python",
   "name": "python",
   "nbconvert_exporter": "python",
   "pygments_lexer": "ipython3",
   "version": "3.9.12"
  }
 },
 "nbformat": 4,
 "nbformat_minor": 5
}
